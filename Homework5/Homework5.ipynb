{
 "cells": [
  {
   "attachments": {},
   "cell_type": "markdown",
   "id": "5ade700e-1f9a-4268-a809-4f829ce411c8",
   "metadata": {},
   "source": [
    "# Homework 5: Scene-Dependent Image Segmentation\n",
    "\n",
    "The goal of this homework is to implement a model that seperates foreground and background objects for a specific scene.  \n",
    "We will use the highway scene from the Change Detection dataset:  \n",
    "http://jacarini.dinf.usherbrooke.ca/dataset2014#\n",
    "\n",
    "![input image](highway/input/in001600.jpg \"Title\") ![gt image](highway/groundtruth/gt001600.png \"Title\")"
   ]
  },
  {
   "attachments": {},
   "cell_type": "markdown",
   "id": "6fb7169c",
   "metadata": {},
   "source": [
    "The groundtruth images contain 5 labels namely\n",
    "- 0 : Static\n",
    "- 50 : Hard shadow\n",
    "- 85 : Outside region of interest\n",
    "- 170 : Unknown motion (usually around moving objects, due to semi-transparency and motion blur)\n",
    "- 255 : Motion"
   ]
  },
  {
   "cell_type": "code",
   "execution_count": 29,
   "id": "3a3d58d6",
   "metadata": {},
   "outputs": [],
   "source": [
    "import torch\n",
    "import numpy as np\n",
    "import matplotlib.pyplot as plt\n",
    "import pandas as pd\n",
    "from PIL import Image\n",
    "import os\n",
    "import cv2"
   ]
  },
  {
   "attachments": {},
   "cell_type": "markdown",
   "id": "ea8b5923-78bb-48e7-8db6-79b35b79b942",
   "metadata": {},
   "source": [
    "## Task 1: Create a custom (Pytorch) dataset\n",
    "\n",
    "\n",
    "https://pytorch.org/tutorials/beginner/basics/data_tutorial.html\n",
    "You need to create a class that inherets from **from torch.utils.data.Dataset** and implements two methods:\n",
    "- **def \\_\\_len\\_\\_(self)**:  returns the length of the dataset\n",
    "- **def \\_\\_getitem\\_\\_(self, idx)**: given an integer idx returns the data x,y\n",
    "    - x is the image as a float tensor of shape: $(3,H,W)$ \n",
    "    - y is the label image as a mask of shape: $(H,W)$ each pixel should contain the label 0 (background) or 1 (foreground). It is recommended to use the type torch.long\n",
    "    \n",
    "**Tips**:\n",
    "- The first 470 images are not labeled. Just ignore these images. \n",
    "- If possible load all images into memory or evene directly to GPU to increase speed.\n",
    "- You can change the resolution to fit your model or your memory\n",
    "- Add data augmentation to increase the data size"
   ]
  },
  {
   "cell_type": "code",
   "execution_count": 31,
   "id": "0390f109",
   "metadata": {},
   "outputs": [],
   "source": [
    "def binarize(img):\n",
    "    img = img > 0 \n",
    "    bin_img = torch.tensor(img, dtype = torch.long)\n",
    "    return bin_img"
   ]
  },
  {
   "cell_type": "code",
   "execution_count": 48,
   "id": "b84fd59b",
   "metadata": {},
   "outputs": [],
   "source": [
    "class CustomImageDataset(torch.utils.data.Dataset):\n",
    "    def __init__(self, imgs_dir, labels_dir, transform=None):\n",
    "        self.imgs_dir = imgs_dir\n",
    "        self.labels_dir = labels_dir\n",
    "        self.transform = transform\n",
    "        # get a list of the name of the images that are in the directory, the first 469 images are not labeled\n",
    "        self.list_name_imgs = [file_name for file_name in os.listdir(imgs_dir)][469:]\n",
    "        self.list_name_labels = [file_name for file_name in os.listdir(labels_dir)][469:]\n",
    "    \n",
    "    def __len__(self):\n",
    "        return(len(self.list_name_labels))\n",
    "    \n",
    "    def __getitem__(self, idx): #index is an integer from 0 to 1230\n",
    "        # 1. read input image\n",
    "        img_path = os.path.join(self.imgs_dir, self.list_name_imgs[idx])\n",
    "        img = Image.open(img_path)\n",
    "        img_tensor = torch.from_numpy(np.array(img))\n",
    "        # 2. read labeled image\n",
    "        label_path = os.path.join(self.labels_dir, self.list_name_labels[idx])\n",
    "        label_img = cv2.imread(label_path, cv2.IMREAD_GRAYSCALE)\n",
    "        if self.transform: # binarize the image into 0 and 1\n",
    "            label_img = self.transform(label_img)\n",
    "        label_tensor = torch.from_numpy(np.array(label_img))\n",
    "        return (img_tensor, label_tensor)"
   ]
  },
  {
   "cell_type": "code",
   "execution_count": 49,
   "id": "fd398ae9",
   "metadata": {},
   "outputs": [
    {
     "name": "stdout",
     "output_type": "stream",
     "text": [
      "1231\n"
     ]
    },
    {
     "data": {
      "image/png": "[encoded data removed]",
      "text/plain": [
       "<Figure size 640x480 with 1 Axes>"
      ]
     },
     "metadata": {},
     "output_type": "display_data"
    },
    {
     "name": "stdout",
     "output_type": "stream",
     "text": [
      "[[0 0 0 ... 0 0 0]\n",
      " [0 0 0 ... 0 0 0]\n",
      " [0 0 0 ... 0 0 0]\n",
      " ...\n",
      " [0 0 0 ... 0 0 0]\n",
      " [0 0 0 ... 0 0 0]\n",
      " [0 0 0 ... 0 0 0]]\n"
     ]
    }
   ],
   "source": [
    "class_1 = CustomImageDataset(imgs_dir='./highway/input', labels_dir='./highway/groundtruth', transform=binarize)\n",
    "print(class_1.__len__())\n",
    "A = np.array(class_1.__getitem__(1220)[1])\n",
    "plt.imshow(A, cmap=\"gray\")\n",
    "plt.show()\n",
    "print(A)"
   ]
  },
  {
   "attachments": {},
   "cell_type": "markdown",
   "id": "0e120eb7-0349-4bb0-b305-23a0f3bb5e26",
   "metadata": {},
   "source": [
    "## Task 2: Create a custom Segmentation Model\n",
    "\n",
    "- input: a batch of images $(B,3,H,W)$ \n",
    "- output: a batch of pixel-wise class predictions $(B,C,H,W)$, where $C=2$\n",
    "\n",
    "Tips:\n",
    "- It is recommended to use a Fully-Convolutional Neural Network, because it flexible to the input and output resolution.\n",
    "- Use Residual Blocks with convolutional layers.\n",
    "- Base your model on established segmentation models:\n",
    "    - U-Net: https://arxiv.org/abs/1505.04597\n",
    "    - Deeplab: https://arxiv.org/abs/1606.00915"
   ]
  },
  {
   "attachments": {},
   "cell_type": "markdown",
   "id": "a85364b0-7010-4710-9373-94a89db8d7c5",
   "metadata": {},
   "source": [
    "## Task 3: Create a training loop\n",
    "- split data into training and test data, e.g. 80% training data and 20% test data using your custom dataset.\n",
    "- Create a Dataloader for your custom datasets \n",
    "- Define a training loop for a single epoch:\n",
    "    - forward pass\n",
    "    - Loss function, e.g. cross entropy\n",
    "    - optimizer \n",
    "    - backward pass\n",
    "    - logging\n",
    "- Define validation loop:\n",
    "    - forward pass\n",
    "    - extract binary labels, e.g. threshold or argmax for each pixel.\n",
    "    - compute evaluation metrics: Accuracy, Precision, Recall and Intersection over Union for each image"
   ]
  },
  {
   "attachments": {},
   "cell_type": "markdown",
   "id": "83e603ff-a32e-4d90-84d9-eba8570d6e63",
   "metadata": {},
   "source": [
    "## Task 4: Small Report of your model and training\n",
    "- visualize training and test error over each epoch\n",
    "- report the evaluation metrics of the final model"
   ]
  }
 ],
 "metadata": {
  "kernelspec": {
   "display_name": "Python 3 (ipykernel)",
   "language": "python",
   "name": "python3"
  },
  "language_info": {
   "codemirror_mode": {
    "name": "ipython",
    "version": 3
   },
   "file_extension": ".py",
   "mimetype": "text/x-python",
   "name": "python",
   "nbconvert_exporter": "python",
   "pygments_lexer": "ipython3",
   "version": "3.9.6"
  }
 },
 "nbformat": 4,
 "nbformat_minor": 5
}
